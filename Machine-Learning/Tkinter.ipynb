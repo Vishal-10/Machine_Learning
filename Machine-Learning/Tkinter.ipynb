{
 "cells": [
  {
   "cell_type": "code",
   "execution_count": 1,
   "metadata": {},
   "outputs": [],
   "source": [
    "import tkinter as tk\n",
    "\n",
    "LARGE_FONT = (\"Verdana\", 12)"
   ]
  },
  {
   "cell_type": "code",
   "execution_count": 2,
   "metadata": {},
   "outputs": [],
   "source": [
    "class seaofBTCapp(tk.Tk):\n",
    "    def __init__(self,*args,**kwargs):\n",
    "        tk.Tk.__init__(self,*args,**kwargs)\n",
    "        container = tk.Frame(self)\n",
    "        \n",
    "        container.pack(side=\"top\", fil=\"both\", expand=True)\n",
    "        \n",
    "        container.grid_rowconfigure(0, weight=1)\n",
    "        container.grid_columnconfigure(0, weight=1)\n",
    "        \n",
    "        self.frames = {}\n",
    "        \n",
    "        frame = StartPage(container,self)\n",
    "        self.frames[StartPage] = frame\n",
    "        frame.grid(row=0, column=0, sticky=\"nsew\")\n",
    "        self.show_frame(StartPage)\n",
    "        \n",
    "    def show_frame(self, cont):\n",
    "        frame = self.frames[cont]\n",
    "        frame.tkraise()\n",
    "    "
   ]
  },
  {
   "cell_type": "code",
   "execution_count": 3,
   "metadata": {},
   "outputs": [],
   "source": [
    "class StartPage(tk.Frame):\n",
    "    def __init__(self, parent, controller):\n",
    "        tk.Frame.__init__(self, parent)\n",
    "        label = tk.Label(self, text=\"Start Page\", font=LARGE_FONT)\n",
    "        label.pack(pady=10, padx=10)"
   ]
  },
  {
   "cell_type": "code",
   "execution_count": 4,
   "metadata": {},
   "outputs": [],
   "source": [
    "app = seaofBTCapp()\n",
    "app.mainloop()"
   ]
  },
  {
   "cell_type": "code",
   "execution_count": null,
   "metadata": {},
   "outputs": [],
   "source": []
  }
 ],
 "metadata": {
  "kernelspec": {
   "display_name": "Python 3",
   "language": "python",
   "name": "python3"
  },
  "language_info": {
   "codemirror_mode": {
    "name": "ipython",
    "version": 3
   },
   "file_extension": ".py",
   "mimetype": "text/x-python",
   "name": "python",
   "nbconvert_exporter": "python",
   "pygments_lexer": "ipython3",
   "version": "3.6.4"
  }
 },
 "nbformat": 4,
 "nbformat_minor": 2
}
