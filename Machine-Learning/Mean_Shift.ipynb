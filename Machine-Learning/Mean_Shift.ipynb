{
 "cells": [
  {
   "cell_type": "code",
   "execution_count": 33,
   "metadata": {},
   "outputs": [],
   "source": [
    "import matplotlib.pyplot as plt\n",
    "from matplotlib import style\n",
    "style.use('ggplot')\n",
    "import numpy as np"
   ]
  },
  {
   "cell_type": "code",
   "execution_count": 34,
   "metadata": {},
   "outputs": [],
   "source": [
    "X = np.array([[1,2],\n",
    "              [1.5,1.8],\n",
    "              [5,8],\n",
    "              [8,8],\n",
    "              [1,0.6],\n",
    "              [9,11],\n",
    "              [8,2],\n",
    "              [10,2],\n",
    "              [9,3],])"
   ]
  },
  {
   "cell_type": "code",
   "execution_count": 35,
   "metadata": {},
   "outputs": [],
   "source": [
    "##plt.scatter(X[:,0], X[:,1], s=150)\n",
    "##plt.show()\n",
    "\n",
    "colors = 10*[\"g\",\"r\",\"c\",\"b\",\"k\"]\n",
    "    "
   ]
  },
  {
   "cell_type": "code",
   "execution_count": 36,
   "metadata": {},
   "outputs": [
    {
     "name": "stdout",
     "output_type": "stream",
     "text": [
      "------ {0: array([1., 2.]), 1: array([1.5, 1.8]), 2: array([5., 8.]), 3: array([8., 8.]), 4: array([1. , 0.6]), 5: array([ 9., 11.]), 6: array([8., 2.]), 7: array([10.,  2.]), 8: array([9., 3.])}\n",
      "------------ [1. 2.]\n",
      "------ {0: array([1., 2.]), 1: array([1.5, 1.8]), 2: array([5., 8.]), 3: array([8., 8.]), 4: array([1. , 0.6]), 5: array([ 9., 11.]), 6: array([8., 2.]), 7: array([10.,  2.]), 8: array([9., 3.])}\n",
      "------------ [1.5 1.8]\n",
      "------ {0: array([1., 2.]), 1: array([1.5, 1.8]), 2: array([5., 8.]), 3: array([8., 8.]), 4: array([1. , 0.6]), 5: array([ 9., 11.]), 6: array([8., 2.]), 7: array([10.,  2.]), 8: array([9., 3.])}\n",
      "------------ [5. 8.]\n",
      "------ {0: array([1., 2.]), 1: array([1.5, 1.8]), 2: array([5., 8.]), 3: array([8., 8.]), 4: array([1. , 0.6]), 5: array([ 9., 11.]), 6: array([8., 2.]), 7: array([10.,  2.]), 8: array([9., 3.])}\n",
      "------------ [8. 8.]\n",
      "------ {0: array([1., 2.]), 1: array([1.5, 1.8]), 2: array([5., 8.]), 3: array([8., 8.]), 4: array([1. , 0.6]), 5: array([ 9., 11.]), 6: array([8., 2.]), 7: array([10.,  2.]), 8: array([9., 3.])}\n",
      "------------ [1.  0.6]\n",
      "------ {0: array([1., 2.]), 1: array([1.5, 1.8]), 2: array([5., 8.]), 3: array([8., 8.]), 4: array([1. , 0.6]), 5: array([ 9., 11.]), 6: array([8., 2.]), 7: array([10.,  2.]), 8: array([9., 3.])}\n",
      "------------ [ 9. 11.]\n",
      "------ {0: array([1., 2.]), 1: array([1.5, 1.8]), 2: array([5., 8.]), 3: array([8., 8.]), 4: array([1. , 0.6]), 5: array([ 9., 11.]), 6: array([8., 2.]), 7: array([10.,  2.]), 8: array([9., 3.])}\n",
      "------------ [8. 2.]\n",
      "------ {0: array([1., 2.]), 1: array([1.5, 1.8]), 2: array([5., 8.]), 3: array([8., 8.]), 4: array([1. , 0.6]), 5: array([ 9., 11.]), 6: array([8., 2.]), 7: array([10.,  2.]), 8: array([9., 3.])}\n",
      "------------ [10.  2.]\n",
      "------ {0: array([1., 2.]), 1: array([1.5, 1.8]), 2: array([5., 8.]), 3: array([8., 8.]), 4: array([1. , 0.6]), 5: array([ 9., 11.]), 6: array([8., 2.]), 7: array([10.,  2.]), 8: array([9., 3.])}\n",
      "------------ [9. 3.]\n",
      "------ {0: array([1.16666667, 1.46666667]), 1: array([6.5, 8. ]), 2: array([7.33333333, 9.        ]), 3: array([8.5, 9.5]), 4: array([9.        , 2.33333333])}\n",
      "------------ [1.16666667 1.46666667]\n",
      "------ {0: array([1.16666667, 1.46666667]), 1: array([6.5, 8. ]), 2: array([7.33333333, 9.        ]), 3: array([8.5, 9.5]), 4: array([9.        , 2.33333333])}\n",
      "------------ [6.5 8. ]\n",
      "------ {0: array([1.16666667, 1.46666667]), 1: array([6.5, 8. ]), 2: array([7.33333333, 9.        ]), 3: array([8.5, 9.5]), 4: array([9.        , 2.33333333])}\n",
      "------------ [7.33333333 9.        ]\n",
      "------ {0: array([1.16666667, 1.46666667]), 1: array([6.5, 8. ]), 2: array([7.33333333, 9.        ]), 3: array([8.5, 9.5]), 4: array([9.        , 2.33333333])}\n",
      "------------ [8.5 9.5]\n",
      "------ {0: array([1.16666667, 1.46666667]), 1: array([6.5, 8. ]), 2: array([7.33333333, 9.        ]), 3: array([8.5, 9.5]), 4: array([9.        , 2.33333333])}\n",
      "------------ [9.         2.33333333]\n",
      "------ {0: array([1.16666667, 1.46666667]), 1: array([7.33333333, 9.        ]), 2: array([9.        , 2.33333333])}\n",
      "------------ [1.16666667 1.46666667]\n",
      "------ {0: array([1.16666667, 1.46666667]), 1: array([7.33333333, 9.        ]), 2: array([9.        , 2.33333333])}\n",
      "------------ [7.33333333 9.        ]\n",
      "------ {0: array([1.16666667, 1.46666667]), 1: array([7.33333333, 9.        ]), 2: array([9.        , 2.33333333])}\n",
      "------------ [9.         2.33333333]\n",
      "{0: array([1.16666667, 1.46666667]), 1: array([7.33333333, 9.        ]), 2: array([9.        , 2.33333333])}\n"
     ]
    },
    {
     "data": {
      "image/png": "[encoded data removed]",
      "text/plain": [
       "<matplotlib.figure.Figure at 0x2c5d3592400>"
      ]
     },
     "metadata": {},
     "output_type": "display_data"
    }
   ],
   "source": [
    "class Mean_Shift:\n",
    "    def __init__(self,radius=5):\n",
    "        self.radius = radius\n",
    "        \n",
    "    def fit(self,data):\n",
    "        centroids = {}\n",
    "        \n",
    "        for i in range(len(data)):\n",
    "            centroids[i] = data[i]\n",
    "            \n",
    "        while True:\n",
    "            new_centroids = []\n",
    "            for i in centroids:\n",
    "                print(\"------\",centroids)\n",
    "                in_bandwidth = []\n",
    "                centroid = centroids[i]\n",
    "                print(\"------------\",centroid)\n",
    "                for featureset in data:\n",
    "                    if(np.linalg.norm(featureset-centroid) < self.radius):\n",
    "                        in_bandwidth.append(featureset)\n",
    "                new_centroid = np.average(in_bandwidth,axis=0)\n",
    "                \n",
    "                new_centroids.append(tuple(new_centroid))\n",
    "            \n",
    "            #print(new_centroids)\n",
    "\n",
    "            uniques = sorted(list(set(new_centroids)))\n",
    "\n",
    "            #print(uniques)\n",
    "            prev_centroids = dict(centroids)\n",
    "            centroids = {}\n",
    "            for i in range(len(uniques)):\n",
    "                centroids[i] = np.array(uniques[i])\n",
    "            optimized = True\n",
    "            for i in centroids:\n",
    "                #if false then go inside the loop\n",
    "                if(np.array_equal(centroids[i], prev_centroids[i])) != True:\n",
    "                    optimized = False\n",
    "                if optimized != True:\n",
    "                    break\n",
    "            if optimized:\n",
    "                break\n",
    "        self.centroids = centroids\n",
    "\n",
    "clf=Mean_Shift(radius=5)\n",
    "clf.fit(X)\n",
    "centroids=clf.centroids\n",
    "print(centroids)\n",
    "plt.scatter(X[:,0],X[:,1],s=150)\n",
    "for c in centroids:\n",
    "    color=colors[c]\n",
    "    plt.scatter(centroids[c][0],centroids[c][1],color=color,marker=\"*\",s=150)\n",
    "plt.show() "
   ]
  },
  {
   "cell_type": "code",
   "execution_count": null,
   "metadata": {},
   "outputs": [],
   "source": []
  },
  {
   "cell_type": "code",
   "execution_count": null,
   "metadata": {},
   "outputs": [],
   "source": []
  }
 ],
 "metadata": {
  "kernelspec": {
   "display_name": "Python 3",
   "language": "python",
   "name": "python3"
  },
  "language_info": {
   "codemirror_mode": {
    "name": "ipython",
    "version": 3
   },
   "file_extension": ".py",
   "mimetype": "text/x-python",
   "name": "python",
   "nbconvert_exporter": "python",
   "pygments_lexer": "ipython3",
   "version": "3.6.4"
  }
 },
 "nbformat": 4,
 "nbformat_minor": 2
}
