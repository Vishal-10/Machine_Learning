{
 "cells": [
  {
   "cell_type": "code",
   "execution_count": 4,
   "metadata": {},
   "outputs": [],
   "source": [
    "import numpy as  np \n",
    "import matplotlib.pyplot as plt\n",
    "from matplotlib import style \n"
   ]
  },
  {
   "cell_type": "code",
   "execution_count": 8,
   "metadata": {},
   "outputs": [],
   "source": [
    "def abline(slope,intercept):\n",
    "    \"\"\"Plot a line from slope & intercept \"\"\"\n",
    "    axes = plt.gca()\n",
    "    x_vals = np.array(axes.get_xlim())\n",
    "    y_vals = intercept + slope * x_vals\n",
    "    plt.plot(x_vals,y_vals, '--')\n",
    "    plt.show()\n",
    "    "
   ]
  },
  {
   "cell_type": "code",
   "execution_count": 9,
   "metadata": {},
   "outputs": [
    {
     "name": "stdout",
     "output_type": "stream",
     "text": [
      "29.0\n",
      "2.0\n",
      "-0.33333333333333304\n",
      "Enter x to predict it y 6\n",
      "11.666666666666668\n"
     ]
    },
    {
     "data": {
      "image/png": "[encoded data removed]",
      "text/plain": [
       "<matplotlib.figure.Figure at 0x13c8a13ff60>"
      ]
     },
     "metadata": {},
     "output_type": "display_data"
    },
    {
     "name": "stdout",
     "output_type": "stream",
     "text": [
      "11.666666666666668\n"
     ]
    },
    {
     "data": {
      "image/png": "[encoded data removed]",
      "text/plain": [
       "<matplotlib.figure.Figure at 0x13c8a112e10>"
      ]
     },
     "metadata": {},
     "output_type": "display_data"
    }
   ],
   "source": [
    "data=[[1,2],[2,4],[3,6],[4,8],[5,10],[3,4]]\n",
    "totalx=0 \n",
    "totaly=0\n",
    "productxy=0\n",
    "for i in data:\n",
    "    totalx += i[0]\n",
    "    totaly += i[1]\n",
    "    productxy += i[0]*i[1]\n",
    "meany=totaly/len(data)\n",
    "meanx=totalx/len(data)\n",
    "meanpxy=productxy/len(data)\n",
    "xsqure=0\n",
    "for i in data:\n",
    "    xsqure += i[0]**2\n",
    "mxqure=xsqure/len(data)\n",
    "print(meanx+ +meany + +meanpxy)\n",
    "slop=float(((meany*meanx)-(meanpxy))/((meanx**2)-mxqure))\n",
    "print (slop)\n",
    "c=meany-slop*meanx\n",
    "print (c)\n",
    "x=float(input('Enter x to predict it y '))\n",
    "y=slop*x + c\n",
    "print(y)\n",
    "plt.xlabel('x')\n",
    "plt.ylabel('Y')\n",
    "for i in data:\n",
    "     plt.scatter(i[0],i[1],s=100,color='r')\n",
    "plt.scatter(x,y,s=100,color='g')\n",
    "plt.show()     \n",
    "\n",
    "print(y)\n",
    "plt.xlabel('x')\n",
    "plt.ylabel('y')\n",
    "for i in data:\n",
    "    plt.scatter(i[0],i[1],s=100,color='r')\n",
    "plt.scatter(x,y,s=100,color='g')\n",
    "abline(slop,c)\n",
    "plt.show()"
   ]
  },
  {
   "cell_type": "code",
   "execution_count": null,
   "metadata": {},
   "outputs": [],
   "source": []
  },
  {
   "cell_type": "code",
   "execution_count": null,
   "metadata": {},
   "outputs": [],
   "source": []
  }
 ],
 "metadata": {
  "kernelspec": {
   "display_name": "Python 3",
   "language": "python",
   "name": "python3"
  },
  "language_info": {
   "codemirror_mode": {
    "name": "ipython",
    "version": 3
   },
   "file_extension": ".py",
   "mimetype": "text/x-python",
   "name": "python",
   "nbconvert_exporter": "python",
   "pygments_lexer": "ipython3",
   "version": "3.6.4"
  }
 },
 "nbformat": 4,
 "nbformat_minor": 2
}
